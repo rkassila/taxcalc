{
 "cells": [
  {
   "cell_type": "markdown",
   "id": "933e233c",
   "metadata": {},
   "source": [
    "# Calcul impôt FR"
   ]
  },
  {
   "cell_type": "code",
   "execution_count": 212,
   "id": "9a3a359e",
   "metadata": {},
   "outputs": [],
   "source": [
    "# estimation taux charges, à corriger par version exacte\n",
    "TAUX_CHARGES = {\"non-cadre\" : 0.23,\n",
    "                \"cadre\" : 0.26}\n",
    "\n",
    "# estimation, à corriger par version exacte\n",
    "DIFF_IMPOSABLE = 1.05\n",
    "TAUX_IMPOTS = [\n",
    "        (11498, 0.00),  # 0% jusqu'à 11 498 EUR\n",
    "        (29316, 0.11),  # 11% de 11 499 à 29 316 EUR\n",
    "        (83824, 0.30),  # 30% de 29 317 à 83 824 EUR\n",
    "        (180294, 0.41),  # 41% de 83 825 à 180 294 EUR\n",
    "        (float('inf'), 0.45)  # 45% au-delà de 180 294 EUR\n",
    "    ]"
   ]
  },
  {
   "cell_type": "code",
   "execution_count": 213,
   "id": "5475e7f5",
   "metadata": {},
   "outputs": [],
   "source": [
    "def calcul_net(brut, statut):\n",
    "    return round(brut * (1 - TAUX_CHARGES[statut]), 1)"
   ]
  },
  {
   "cell_type": "code",
   "execution_count": 214,
   "id": "5062e449",
   "metadata": {},
   "outputs": [],
   "source": [
    "def calcul_net_imposable(net):\n",
    "    return round(net * DIFF_IMPOSABLE, 1)"
   ]
  },
  {
   "cell_type": "code",
   "execution_count": 215,
   "id": "45699602",
   "metadata": {},
   "outputs": [],
   "source": [
    "def calcul_impots(revenu_imposable):\n",
    "    impot_total = 0\n",
    "    revenu_restant = revenu_imposable\n",
    "    seuil_precedent = 0\n",
    "\n",
    "    # Calcul de l'impôt pour chaque tranche\n",
    "    for seuil, taux in TAUX_IMPOTS:\n",
    "        if revenu_restant <= 0:\n",
    "            break\n",
    "        if revenu_restant > seuil:\n",
    "            # Calcul de l'impôt sur la portion dans la tranche\n",
    "            impot_total += (seuil - seuil_precedent) * taux\n",
    "            revenu_restant -= (seuil - seuil_precedent)\n",
    "        else:\n",
    "            # Si le revenu restant est inférieur au seuil, appliquer l'impôt sur le reste\n",
    "            impot_total += revenu_restant * taux\n",
    "            revenu_restant = 0\n",
    "\n",
    "        seuil_precedent = seuil\n",
    "\n",
    "    return round(impot_total, 2)\n"
   ]
  },
  {
   "cell_type": "code",
   "execution_count": 219,
   "id": "a8e4831b",
   "metadata": {},
   "outputs": [
    {
     "name": "stdout",
     "output_type": "stream",
     "text": [
      "45880.0\n",
      "48174.0\n"
     ]
    }
   ],
   "source": [
    "net = calcul_net(62000, \"cadre\")\n",
    "print(net)\n",
    "net_imposable = calcul_net_imposable(net)\n",
    "print(net_imposable)"
   ]
  },
  {
   "cell_type": "code",
   "execution_count": 220,
   "id": "7c812f96",
   "metadata": {},
   "outputs": [
    {
     "data": {
      "text/plain": [
       "38262.62"
      ]
     },
     "execution_count": 220,
     "metadata": {},
     "output_type": "execute_result"
    }
   ],
   "source": [
    "net_EUR = net - calcul_impots(net_imposable)\n",
    "net_EUR"
   ]
  },
  {
   "cell_type": "markdown",
   "id": "ab39710f",
   "metadata": {},
   "source": [
    "# Calcul équivalent JP"
   ]
  },
  {
   "cell_type": "code",
   "execution_count": 221,
   "id": "941db0bc",
   "metadata": {},
   "outputs": [],
   "source": [
    "TAUX_CHANGE_JPY_EUR = 160"
   ]
  },
  {
   "cell_type": "code",
   "execution_count": 222,
   "id": "c435330c",
   "metadata": {},
   "outputs": [],
   "source": [
    "#from forex_python.converter import CurrencyRates\n",
    "#c = CurrencyRates()\n",
    "#taux = c.get_rate('JPY', 'EUR')\n",
    "#print(f\"Le taux de change JPY/EUR est : {taux}\")"
   ]
  },
  {
   "cell_type": "code",
   "execution_count": 223,
   "id": "8dcaa647",
   "metadata": {},
   "outputs": [
    {
     "data": {
      "text/plain": [
       "6122019.2"
      ]
     },
     "execution_count": 223,
     "metadata": {},
     "output_type": "execute_result"
    }
   ],
   "source": [
    "net_JPY = net_EUR * TAUX_CHANGE_JPY_EUR\n",
    "net_JPY"
   ]
  },
  {
   "cell_type": "code",
   "execution_count": 273,
   "id": "1ebc30c3",
   "metadata": {},
   "outputs": [],
   "source": [
    "TAUX_IMPOTS_JP = [\n",
    "    (0, 0.05),\n",
    "    (1_950_000, 0.10),\n",
    "    (3_300_000, 0.20),\n",
    "    (6_950_000, 0.23),\n",
    "    (9_000_000, 0.33),\n",
    "    (18_000_000, 0.40),\n",
    "    (40_000_000, 0.45)\n",
    "]\n",
    "\n",
    "TAUX_RECONSTRUCTION = 0.021  # 2.1%\n",
    "DEDUCTION_PERSONNELLE = 6*380_000\n",
    "TAUX_CHARGES_JP = 0.14  # 14%"
   ]
  },
  {
   "cell_type": "code",
   "execution_count": 274,
   "id": "10090839",
   "metadata": {},
   "outputs": [],
   "source": [
    "# Fonction pour calculer l'impôt total\n",
    "def calcul_impot_total(revenu_brut):\n",
    "    # Calcul du revenu après déduction des charges sociales\n",
    "    revenu_net_imposable = revenu_brut * (1 - TAUX_CHARGES_JP)\n",
    "    #revenu_net_imposable = revenu_brut\n",
    "    # Calcul du revenu imposable après la déduction personnelle\n",
    "    revenu_imposable = max(0, revenu_net_imposable - DEDUCTION_PERSONNELLE)\n",
    "    \n",
    "    impot_base = 0\n",
    "    for i in range(len(TAUX_IMPOTS_JP)):\n",
    "        seuil, taux = TAUX_IMPOTS_JP[i]\n",
    "        if i + 1 < len(TAUX_IMPOTS_JP):\n",
    "            suivant = TAUX_IMPOTS_JP[i + 1][0]\n",
    "            if revenu_imposable > seuil:\n",
    "                impot_base += (min(revenu_imposable, suivant) - seuil) * taux\n",
    "        else:\n",
    "            if revenu_imposable > seuil:\n",
    "                impot_base += (revenu_imposable - seuil) * taux\n",
    "\n",
    "    # Appliquer la surtaxe de reconstruction (2.1% de l'impôt de base)\n",
    "    #impot_total = impot_base * (1 + TAUX_RECONSTRUCTION)\n",
    "    impot_total = impot_base\n",
    "    return round(impot_total)\n",
    "\n",
    "# Fonction pour estimer le brut à partir du net souhaité\n",
    "def trouver_brut_depuis_net(net_vise, tolérance=100):\n",
    "    bas = net_vise\n",
    "    haut = net_vise * 2\n",
    "    while bas <= haut:\n",
    "        mid = (bas + haut) / 2\n",
    "        charges = mid * TAUX_CHARGES_JP\n",
    "        impot = calcul_impot_total(mid)\n",
    "        net_calcule = mid - charges - impot\n",
    "        if abs(net_calcule - net_vise) <= tolérance:\n",
    "            return round(mid)\n",
    "        elif net_calcule < net_vise:\n",
    "            bas = mid + 1\n",
    "        else:\n",
    "            haut = mid - 1\n",
    "    return None"
   ]
  },
  {
   "cell_type": "code",
   "execution_count": 275,
   "id": "91613502",
   "metadata": {},
   "outputs": [
    {
     "name": "stdout",
     "output_type": "stream",
     "text": [
      "✅ Net souhaité        : ¥7,338,579.2\n",
      "💼 Brut estimé         : ¥9,382,398\n"
     ]
    }
   ],
   "source": [
    "net_souhaite = net_JPY\n",
    "brut_estime = trouver_brut_depuis_net(net_souhaite)\n",
    "impot = calcul_impot_total(brut_estime)\n",
    "#charges_sociales = brut_estime * TAUX_CHARGES_JP\n",
    "#net_imposable = brut_estime * (1 - TAUX_CHARGES_JP) - DEDUCTION_PERSONNELLE\n",
    "\n",
    "print(f\"✅ Net souhaité        : ¥{net_souhaite:,}\")\n",
    "print(f\"💼 Brut estimé         : ¥{brut_estime:,}\")"
   ]
  },
  {
   "cell_type": "markdown",
   "id": "faba9666",
   "metadata": {},
   "source": [
    "# Calcul (provisoire)"
   ]
  },
  {
   "cell_type": "code",
   "execution_count": 291,
   "id": "fe9aaa08",
   "metadata": {},
   "outputs": [
    {
     "name": "stdout",
     "output_type": "stream",
     "text": [
      "✅ Salaire brut FR        : €82,240\n",
      "✅ Salaire net mensuel FR : €4,044\n",
      "💼 Salaire net mensuel JP : ¥646,964\n",
      "💼 Salaire brut JP        : ¥10,000,136\n"
     ]
    }
   ],
   "source": [
    "salaire = 82240\n",
    "net = calcul_net(salaire, \"cadre\")\n",
    "net_imposable = calcul_net_imposable(net)\n",
    "net_EUR = net - calcul_impots(net_imposable)\n",
    "net_JPY = net_EUR * TAUX_CHANGE_JPY_EUR\n",
    "brut_estime = trouver_brut_depuis_net(net_JPY)\n",
    "\n",
    "print(f\"✅ Salaire brut FR        : €{salaire:,}\")\n",
    "print(f\"✅ Salaire net mensuel FR : €{round(net_EUR/12):,}\")\n",
    "print(f\"💼 Salaire net mensuel JP : ¥{round(net_JPY/12):,}\")\n",
    "print(f\"💼 Salaire brut JP        : ¥{brut_estime:,}\")"
   ]
  },
  {
   "cell_type": "code",
   "execution_count": null,
   "id": "6069dd25",
   "metadata": {},
   "outputs": [],
   "source": []
  }
 ],
 "metadata": {
  "kernelspec": {
   "display_name": "Python 3 (ipykernel)",
   "language": "python",
   "name": "python3"
  },
  "language_info": {
   "codemirror_mode": {
    "name": "ipython",
    "version": 3
   },
   "file_extension": ".py",
   "mimetype": "text/x-python",
   "name": "python",
   "nbconvert_exporter": "python",
   "pygments_lexer": "ipython3",
   "version": "3.10.6"
  },
  "toc": {
   "base_numbering": 1,
   "nav_menu": {},
   "number_sections": true,
   "sideBar": true,
   "skip_h1_title": false,
   "title_cell": "Table of Contents",
   "title_sidebar": "Contents",
   "toc_cell": false,
   "toc_position": {},
   "toc_section_display": true,
   "toc_window_display": false
  }
 },
 "nbformat": 4,
 "nbformat_minor": 5
}
