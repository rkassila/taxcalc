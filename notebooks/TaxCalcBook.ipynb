{
 "cells": [
  {
   "cell_type": "markdown",
   "id": "c9241fda",
   "metadata": {},
   "source": [
    "# Calcul impôt FR"
   ]
  },
  {
   "cell_type": "code",
   "execution_count": 33,
   "id": "9a3a359e",
   "metadata": {},
   "outputs": [],
   "source": [
    "# estimation taux charges, à corriger par version exacte\n",
    "TAUX_CHARGES = {\"non-cadre\" : 0.23,\n",
    "                \"cadre\" : 0.26}\n",
    "\n",
    "# estimation, à corriger par version exacte\n",
    "DIFF_IMPOSABLE = 1.05\n",
    "TAUX_IMPOTS = {0:0, \n",
    "               11498: 11, \n",
    "               29316 : 30, \n",
    "               83824 : 41,\n",
    "               180294 : 45}"
   ]
  },
  {
   "cell_type": "code",
   "execution_count": 34,
   "id": "82e417dc",
   "metadata": {},
   "outputs": [],
   "source": [
    "def calcul_net(brut, statut):\n",
    "    return round(brut * (1 - TAUX_CHARGES[statut]), 1)"
   ]
  },
  {
   "cell_type": "code",
   "execution_count": 35,
   "id": "edea2911",
   "metadata": {},
   "outputs": [],
   "source": [
    "def calcul_net_imposable(net):\n",
    "    return round(net * DIFF_IMPOSABLE, 1)"
   ]
  },
  {
   "cell_type": "code",
   "execution_count": 36,
   "id": "d852ffae",
   "metadata": {},
   "outputs": [],
   "source": [
    "def calcul_net_impots(net_imposable):\n",
    "    net_imposable = net_imposable * 0.9\n",
    "    impot = sum((min(net_imposable, max_bracket) - prev_bracket) * (taux / 100)\n",
    "        for prev_bracket, max_bracket, taux in zip([0] + list(TAUX_IMPOTS.keys())[:-1], list(TAUX_IMPOTS.keys())[1:], TAUX_IMPOTS.values())\n",
    "        if net_imposable > prev_bracket)\n",
    "    return round(net_imposable - impot, 1)"
   ]
  },
  {
   "cell_type": "code",
   "execution_count": 44,
   "id": "e0886d64",
   "metadata": {},
   "outputs": [
    {
     "data": {
      "text/plain": [
       "22384.0"
      ]
     },
     "execution_count": 44,
     "metadata": {},
     "output_type": "execute_result"
    }
   ],
   "source": [
    "net = calcul_net(50000, \"cadre\")\n",
    "net_imposable = calcul_net_imposable(net)\n",
    "net_EUR = calcul_net_impots(net_imposable)\n",
    "net_EUR"
   ]
  },
  {
   "cell_type": "markdown",
   "id": "84c51706",
   "metadata": {},
   "source": [
    "# Calcul équivalent JP"
   ]
  },
  {
   "cell_type": "code",
   "execution_count": 46,
   "id": "8b0bca7b",
   "metadata": {},
   "outputs": [],
   "source": [
    "TAUX_CHANGE_JPY_EUR = 160"
   ]
  },
  {
   "cell_type": "code",
   "execution_count": 47,
   "id": "bab586e1",
   "metadata": {},
   "outputs": [],
   "source": [
    "#from forex_python.converter import CurrencyRates\n",
    "#c = CurrencyRates()\n",
    "#taux = c.get_rate('JPY', 'EUR')\n",
    "#print(f\"Le taux de change JPY/EUR est : {taux}\")"
   ]
  },
  {
   "cell_type": "code",
   "execution_count": 48,
   "id": "6f31b2e3",
   "metadata": {},
   "outputs": [],
   "source": [
    "net_JPY = net_EUR * TAUX_CHANGE_JPY_EUR"
   ]
  },
  {
   "cell_type": "code",
   "execution_count": null,
   "id": "1f3a2af8",
   "metadata": {},
   "outputs": [],
   "source": []
  }
 ],
 "metadata": {
  "kernelspec": {
   "display_name": "Python 3 (ipykernel)",
   "language": "python",
   "name": "python3"
  },
  "language_info": {
   "codemirror_mode": {
    "name": "ipython",
    "version": 3
   },
   "file_extension": ".py",
   "mimetype": "text/x-python",
   "name": "python",
   "nbconvert_exporter": "python",
   "pygments_lexer": "ipython3",
   "version": "3.10.6"
  },
  "toc": {
   "base_numbering": 1,
   "nav_menu": {},
   "number_sections": true,
   "sideBar": true,
   "skip_h1_title": false,
   "title_cell": "Table of Contents",
   "title_sidebar": "Contents",
   "toc_cell": false,
   "toc_position": {},
   "toc_section_display": true,
   "toc_window_display": false
  }
 },
 "nbformat": 4,
 "nbformat_minor": 5
}
